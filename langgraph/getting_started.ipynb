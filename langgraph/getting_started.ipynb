{
 "cells": [
  {
   "cell_type": "code",
   "execution_count": 3,
   "metadata": {},
   "outputs": [],
   "source": [
    "# imports\n",
    "from typing import Annotated\n",
    "from typing_extensions import TypedDict\n",
    "from langgraph.graph import StateGraph\n",
    "from langgraph.graph.message import add_messages\n",
    "from langchain_cohere import ChatCohere\n",
    "import getpass\n",
    "import os\n",
    "from IPython.display import display, Image"
   ]
  },
  {
   "cell_type": "code",
   "execution_count": null,
   "metadata": {},
   "outputs": [],
   "source": [
    "# setting cohere api key\n",
    "os.environ[\"COHERE_API_KEY\"] = getpass.getpass()"
   ]
  },
  {
   "cell_type": "code",
   "execution_count": 5,
   "metadata": {},
   "outputs": [],
   "source": [
    "# setting langchain api key\n",
    "os.environ[\"LANGCHAIN_TRACING_V2\"] = \"true\"\n",
    "os.environ[\"LANGCHAIN_ENDPOINT\"] = \"https://api.smith.langchain.com\"\n",
    "os.environ[\"LANGCHAIN_API_KEY\"] = getpass.getpass()"
   ]
  },
  {
   "cell_type": "code",
   "execution_count": 6,
   "metadata": {},
   "outputs": [],
   "source": [
    "# state - to maintain chat history\n",
    "class State(TypedDict):\n",
    "    messages : Annotated[list, add_messages]\n",
    "\n",
    "# graph\n",
    "graph_builder = StateGraph(State)\n",
    "\n",
    "# model\n",
    "llm = ChatCohere(model=\"command-r\")\n",
    "\n",
    "# node - chatbot\n",
    "def chatbot(state: State):\n",
    "    return {\"messages\": [llm.invoke(state[\"messages\"])]}\n",
    "\n",
    "graph_builder.add_node(\"chatbot\", chatbot)\n",
    "\n",
    "# set entry and finish for graph\n",
    "graph_builder.set_entry_point(\"chatbot\")\n",
    "graph_builder.set_finish_point(\"chatbot\")\n",
    "\n",
    "# graph compilation\n",
    "graph = graph_builder.compile()"
   ]
  },
  {
   "cell_type": "code",
   "execution_count": 9,
   "metadata": {},
   "outputs": [
    {
     "data": {
      "image/jpeg": "[encoded data removed]",
      "text/plain": [
       "<IPython.core.display.Image object>"
      ]
     },
     "metadata": {},
     "output_type": "display_data"
    }
   ],
   "source": [
    "# visualise the graph\n",
    "try:\n",
    "    display(Image(graph.get_graph().draw_mermaid_png()))\n",
    "except Exception:\n",
    "    pass"
   ]
  },
  {
   "cell_type": "code",
   "execution_count": 11,
   "metadata": {},
   "outputs": [
    {
     "name": "stdout",
     "output_type": "stream",
     "text": [
      "Assistant: As an AI chatbot, I don't experience emotions like humans do, but I'm functioning properly and ready to assist you in any way I can. How can I help you today? If you're asking about my software, it's running smoothly, and I'm here to provide accurate and helpful responses as always!\n",
      "Assistant: Harry Potter is a series of seven best-selling novels written by British author J.K. Rowling. The books follow the story of Harry Potter, a young wizard, as he attends Hogwarts School of Witchcraft and Wizardry and becomes entangled in the mysterious and magical world of wizards and mages. \n",
      "\n",
      "The series begins with Harry Potter and the Philosopher's Stone, which was published in 1997, and concludes with Harry Potter and the Deathly Hallows, released in 2007. The books have sold more than 500 million copies worldwide and have been translated into over 80 languages. \n",
      "\n",
      "The success of the novels led to eight films, produced and released by Warner Bros., which adapted the books with the same title as the novels. The films star Daniel Radcliffe as Harry Potter and feature a large ensemble cast as the many characters of the wizarding world. The movies received generally excellent reviews and were commercially successful, becoming one of the highest-grossing film series of all time.\n",
      "\n",
      "Additionally, the Harry Potter franchise has expanded with spin-offs and related works. These include the film Fantastic Beasts and Where to Find Them, a prequel to the main series, as well as theatre shows, video games, toys, and theme park attractions. The stories also inspired a generation of readers and viewers, captivating audiences of all ages with the magical world J.K. Rowling created. \n",
      "\n",
      "The main seven books in the series are:\n",
      "1. Harry Potter and the Philosopher's Stone (1997)\n",
      "2. Harry Potter and the Chamber of Secrets (1998)\n",
      "3. Harry Potter and the Prisoner of Azkaban (1999) \n",
      "4. Harry Potter and the Goblet of Fire (2000) \n",
      "5. Harry Potter and the Order of the Phoenix (2003) \n",
      "6. Harry Potter and the Half-Blood Prince (2005) \n",
      "7. Harry Potter and the Deathly Hallows (2007)\n",
      "\n",
      "Would you like to know anything specific about the Harry Potter series, or J.K. Rowling?\n",
      "Assistant: Andrej Karpathy is the Chief Scientist of AI at Tesla Inc. He has been in the role since 2017 and leads the company's artificial intelligence research and development. Karpathy's work focuses on leveraging AI and machine learning techniques to improve and advance various aspects of Tesla's products and services, including Autopilot, Full Self-Driving capabilities, and the recommendation systems within the company's mobile app. \n",
      "\n",
      "Before joining Tesla, Karpathy was a researcher and lecturer in the field of artificial intelligence. He obtained his PhD in computer science from Stanford University, where he conducted research on deep learning and computer vision. His work involved developing algorithms that enable computers to understand and generate images, as well as improving the efficiency of neural networks. Karpathy has also held positions at places such as Google Inc. and the University of Toronto. \n",
      "\n",
      "Karpathy is recognized as a prominent figure in the AI community and has contributed to numerous publications and conferences in his field. He is also an advocate for making AI more accessible to the public and has given talks and written articles explaining complex AI concepts to a wider audience.\n",
      "Assistant: My memory, which is based on a massive language model, is regularly updated. The exact date of the last update is difficult to pinpoint, as improvements and adjustments are continuously made. \n",
      "\n",
      "However, I can tell you that as of October 2024, my training data has been refreshed and expanded. This means that I'm up to date with current events and knowledge, and I'm ready to assist you with any queries you might have! \n",
      "\n",
      "If you have any specific questions, feel free to ask, and I'll do my best to provide you with the most recent and accurate information available.\n",
      "Assistant: Andrej Karpathy, while working at Tesla, contributed significantly to improving the efficiency of neural networks, particularly in the context of object detection for autonomous vehicles. Some of the key ways in which he enhanced neural network performance include:\n",
      "\n",
      "**Object Detection Improvements**: Karpathy's work on object detection focused on making it more accurate and efficient. He utilized a combination of techniques, including better labeling methods, multi-scale training, and improving the architecture of the neural networks. This work resulted in more accurate identification and localization of objects in images, which is crucial for autonomous driving.\n",
      "\n",
      "**Efficient Inference**: Karpathy explored methods to make the inference process in neural networks more efficient, especially for real-time applications in autonomous cars. He worked on reducing the computational complexity of the networks, making them faster and more suitable for real-time object detection. This involved architectural adjustments and optimizing the inference process.\n",
      "\n",
      "**Data Efficiency**: Recognizing the vast amount of data required by neural networks, Karpathy explored techniques to make them more data-efficient. He worked on methods to utilize smaller datasets more effectively, including transfer learning, which involves leveraging pre-trained models to initialize new networks, and progressive training, where the network is trained on easier tasks first and gradually moved to more complex ones.\n",
      "\n",
      "**Attention Mechanisms**: Karpathy contributed to the development of attention mechanisms in neural networks, which allow the network to focus on relevant parts of the input data. In the context of autonomous driving, this means the network can pay more attention to regions of the image that are critical for making accurate predictions.\n",
      "\n",
      "**Collaboration and Open Source**: Karpathy actively collaborated with other researchers and shared Tesla's findings and methods with the wider research community. This included publishing papers, sharing code, and presenting at conferences. The open exchange of ideas and methods often leads to collective advancements and faster progress in the field.\n",
      "\n",
      "**Hardware Acceleration**: Karpathy also explored the use of specialized hardware, such as Tesla's custom-designed FSD Computer, to run neural networks more efficiently. This work aimed to improve the inference speed and reduce the energy consumption of the object detection system.\n",
      "\n",
      "It's important to note that Karpathy's contributions are a part of a much larger effort by many researchers and engineers in the field of deep learning and autonomous driving. Neural network advancements are often iterative, building upon previous work. Karpathy's work at Tesla, therefore, while significant, represents a piece of the larger puzzle in improving neural network efficiency.\n",
      "Goodbye!\n"
     ]
    }
   ],
   "source": [
    "# running the chatbot\n",
    "while True:\n",
    "    user_input = input(\"User: \")\n",
    "    if user_input.lower() in [\"quit\", \"exit\", \"q\"]:\n",
    "        print(f\"Goodbye!\")\n",
    "        break\n",
    "    for event in graph.stream({\"messages\": [(\"user\", user_input)]}):\n",
    "        for value in event.values():\n",
    "            print(f\"Assistant: {value['messages'][-1].content}\")"
   ]
  }
 ],
 "metadata": {
  "kernelspec": {
   "display_name": "llm",
   "language": "python",
   "name": "python3"
  },
  "language_info": {
   "codemirror_mode": {
    "name": "ipython",
    "version": 3
   },
   "file_extension": ".py",
   "mimetype": "text/x-python",
   "name": "python",
   "nbconvert_exporter": "python",
   "pygments_lexer": "ipython3",
   "version": "3.11.5"
  }
 },
 "nbformat": 4,
 "nbformat_minor": 2
}
